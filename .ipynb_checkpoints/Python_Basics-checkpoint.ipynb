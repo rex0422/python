{
 "cells": [
  {
   "cell_type": "code",
   "execution_count": 1,
   "metadata": {},
   "outputs": [],
   "source": [
    "# This is a compilation of all the codes that I've written in Week 2's materials.\n",
    "# More examples are provided here, which you can see how it is run.\n",
    "# More advanced content will be provided towards the end."
   ]
  },
  {
   "cell_type": "code",
   "execution_count": 2,
   "metadata": {},
   "outputs": [
    {
     "name": "stdout",
     "output_type": "stream",
     "text": [
      "I am Pinocchio\n"
     ]
    }
   ],
   "source": [
    "print(\"I am Pinocchio\")"
   ]
  },
  {
   "cell_type": "code",
   "execution_count": 3,
   "metadata": {},
   "outputs": [
    {
     "data": {
      "text/plain": [
       "3"
      ]
     },
     "execution_count": 3,
     "metadata": {},
     "output_type": "execute_result"
    }
   ],
   "source": [
    "len([1,2,3])  # question: how many elements are there in [1,2,3]?"
   ]
  },
  {
   "cell_type": "code",
   "execution_count": 4,
   "metadata": {},
   "outputs": [
    {
     "data": {
      "text/plain": [
       "[1, 2, 3, 4, 5, 6]"
      ]
     },
     "execution_count": 4,
     "metadata": {},
     "output_type": "execute_result"
    }
   ],
   "source": [
    "[1,2,3] + [4,5,6]  # this creates a new list, counting from 1 to 6"
   ]
  },
  {
   "cell_type": "code",
   "execution_count": 5,
   "metadata": {},
   "outputs": [
    {
     "data": {
      "text/plain": [
       "['Yo',\n",
       " 'Yo',\n",
       " 'Yo',\n",
       " 'Yo',\n",
       " 'Yo',\n",
       " 'Yo',\n",
       " 'Yo',\n",
       " 'Yo',\n",
       " 'Yo',\n",
       " 'Yo',\n",
       " 'Yo',\n",
       " 'Yo',\n",
       " 'Yo',\n",
       " 'Yo']"
      ]
     },
     "execution_count": 5,
     "metadata": {},
     "output_type": "execute_result"
    }
   ],
   "source": [
    "[\"Yo\"] * 14  # an obnoxious person would do this: say “yo” fourteen times in a row"
   ]
  },
  {
   "cell_type": "code",
   "execution_count": 6,
   "metadata": {
    "scrolled": true
   },
   "outputs": [
    {
     "name": "stdout",
     "output_type": "stream",
     "text": [
      "red\n",
      "green\n",
      "3\n"
     ]
    }
   ],
   "source": [
    "colors = ['red', 'blue', 'green']\n",
    "print(colors[0])    ## red\n",
    "print(colors[2])   ## green\n",
    "print(len(colors))  ## 3"
   ]
  },
  {
   "cell_type": "code",
   "execution_count": 7,
   "metadata": {},
   "outputs": [
    {
     "name": "stdout",
     "output_type": "stream",
     "text": [
      "30\n"
     ]
    }
   ],
   "source": [
    "squares = [1, 4, 9, 16]\n",
    "sum = 0\n",
    "for num in squares:\n",
    "    sum += num\n",
    "print(sum)  ## this gives you 30!"
   ]
  },
  {
   "cell_type": "code",
   "execution_count": 8,
   "metadata": {},
   "outputs": [],
   "source": [
    "# What does [7] mean? For every number in the \"squares\" list, start the sum with zero, we add the number in \"squares\" to 0.\n",
    "# This gives us a way to add squares of finitely small integers."
   ]
  },
  {
   "cell_type": "code",
   "execution_count": 9,
   "metadata": {},
   "outputs": [],
   "source": [
    "# Something not covered earlier is called LIST COMPREHENSIONS. This is Python's super-fast computation process, generating integers inside a list of integers, powered by a generator."
   ]
  },
  {
   "cell_type": "code",
   "execution_count": 10,
   "metadata": {},
   "outputs": [
    {
     "name": "stdout",
     "output_type": "stream",
     "text": [
      "1015\n"
     ]
    }
   ],
   "source": [
    "squares = [x**2 for x in range(15)]\n",
    "sum = 0\n",
    "for num in squares:\n",
    "    sum += num\n",
    "print(sum)  ## this gives you 1015!"
   ]
  },
  {
   "cell_type": "code",
   "execution_count": 11,
   "metadata": {},
   "outputs": [],
   "source": [
    "# Feel free to manually check the work above by simple maths formula you've learned! Remeber sum of k^2 (from 1 to n) is given by 1/6 (n(n+1)(2n+1)). We can program a function that does exactly this!"
   ]
  },
  {
   "cell_type": "code",
   "execution_count": 12,
   "metadata": {},
   "outputs": [],
   "source": [
    "def sum_of_sq(init, end):\n",
    "    length = abs(end-init)\n",
    "    n = len(range(length))\n",
    "    a = (1/6) * (n*(n+1)*(1 + 2*n))\n",
    "    print(int(a)) # this is so not to have floating-point-type numbers"
   ]
  },
  {
   "cell_type": "code",
   "execution_count": 13,
   "metadata": {},
   "outputs": [
    {
     "name": "stdout",
     "output_type": "stream",
     "text": [
      "1015\n"
     ]
    }
   ],
   "source": [
    "sum_of_sq(init=1, end=15) "
   ]
  },
  {
   "cell_type": "code",
   "execution_count": 14,
   "metadata": {},
   "outputs": [],
   "source": [
    "# keywords \"init\" and \"end\" make the function MUCH easier to use, rather than deciphering range(x).\n",
    "# function is a much slower way to add integers between x and y, especially if y is large; for example:"
   ]
  },
  {
   "cell_type": "code",
   "execution_count": 15,
   "metadata": {
    "scrolled": true
   },
   "outputs": [
    {
     "name": "stdout",
     "output_type": "stream",
     "text": [
      "30273825\n"
     ]
    }
   ],
   "source": [
    "squares = [x**2 for x in range(450)]\n",
    "sum = 0\n",
    "for num in squares:\n",
    "    sum += num\n",
    "print(sum)  ## this gives you 30273825!"
   ]
  },
  {
   "cell_type": "code",
   "execution_count": 16,
   "metadata": {},
   "outputs": [
    {
     "name": "stdout",
     "output_type": "stream",
     "text": [
      "30273825\n"
     ]
    }
   ],
   "source": [
    "sum_of_sq(1,450)"
   ]
  },
  {
   "cell_type": "code",
   "execution_count": 17,
   "metadata": {},
   "outputs": [
    {
     "name": "stdout",
     "output_type": "stream",
     "text": [
      "0\n",
      "3\n",
      "6\n",
      "9\n",
      "12\n"
     ]
    }
   ],
   "source": [
    "## Access every 3rd element in a list\n",
    "a = list(range(14))\n",
    "i = 0\n",
    "while i < len(a):\n",
    "   print(a[i])\n",
    "   i = i + 3 # equivalently, type i += 3"
   ]
  },
  {
   "cell_type": "code",
   "execution_count": 18,
   "metadata": {},
   "outputs": [
    {
     "name": "stdout",
     "output_type": "stream",
     "text": [
      "[4, 8, 12, 16, 20, 24, 28, 32, 36, 40, 44, 48, 52, 56, 60, 64, 68, 72, 76, 80, 84, 88, 92, 96, 100, 104, 108, 112, 116, 120, 124]\n"
     ]
    }
   ],
   "source": [
    "a=range(123)\n",
    "i = 0\n",
    "j = []\n",
    "b = list(range(123 // 4))\n",
    "for l in b:\n",
    "   while i < len(a):\n",
    "       a[i]\n",
    "       i = i + 4\n",
    "       j.append(i)\n",
    "print(j)"
   ]
  },
  {
   "cell_type": "code",
   "execution_count": 19,
   "metadata": {},
   "outputs": [],
   "source": [
    "# Can you see that some of the code above is unnecessary? Can you streamline it?"
   ]
  },
  {
   "cell_type": "code",
   "execution_count": 20,
   "metadata": {},
   "outputs": [],
   "source": [
    "D = {'spam': 2, 'ham': 1, 'eggs': 3} # Make a dictionary"
   ]
  },
  {
   "cell_type": "code",
   "execution_count": 21,
   "metadata": {},
   "outputs": [
    {
     "data": {
      "text/plain": [
       "2"
      ]
     },
     "execution_count": 21,
     "metadata": {},
     "output_type": "execute_result"
    }
   ],
   "source": [
    "D['spam'] # Fetch a value by key"
   ]
  },
  {
   "cell_type": "code",
   "execution_count": 22,
   "metadata": {},
   "outputs": [
    {
     "data": {
      "text/plain": [
       "{'spam': 2, 'ham': 1, 'eggs': 3}"
      ]
     },
     "execution_count": 22,
     "metadata": {},
     "output_type": "execute_result"
    }
   ],
   "source": [
    "D # Order is \"scrambled\""
   ]
  },
  {
   "cell_type": "code",
   "execution_count": 23,
   "metadata": {},
   "outputs": [],
   "source": [
    "# Now, let us create a dictionary by \"merging\" two lists."
   ]
  },
  {
   "cell_type": "code",
   "execution_count": 24,
   "metadata": {},
   "outputs": [],
   "source": [
    "A = [\"string\", \"st\", \"sir\", \"fire\", \"tingle\", \"st\", \"sir\", \"string\", \"reasons\"]\n",
    "B = [2,3,6,3,31,2,3,8,9]\n",
    "D = dict(zip(A,B))"
   ]
  },
  {
   "cell_type": "code",
   "execution_count": 25,
   "metadata": {},
   "outputs": [],
   "source": [
    "# Explain the following output."
   ]
  },
  {
   "cell_type": "code",
   "execution_count": 26,
   "metadata": {},
   "outputs": [
    {
     "name": "stdout",
     "output_type": "stream",
     "text": [
      "['sir', 'fire']\n",
      "['sir', 'fire']\n"
     ]
    }
   ],
   "source": [
    "V = 3\n",
    "print([key for key in D.keys() if D[key] == V])\n",
    "print([key for (key,value) in D.items() if D[key] == V])"
   ]
  },
  {
   "cell_type": "code",
   "execution_count": 27,
   "metadata": {},
   "outputs": [
    {
     "name": "stdout",
     "output_type": "stream",
     "text": [
      "[3, 3]\n"
     ]
    }
   ],
   "source": [
    "key = \"sir\"\n",
    "print([value for value in D.values() if D[key] == value])"
   ]
  },
  {
   "cell_type": "code",
   "execution_count": 28,
   "metadata": {},
   "outputs": [
    {
     "name": "stdout",
     "output_type": "stream",
     "text": [
      "['string', [8]]\n",
      "['st', [2]]\n",
      "['sir', [3, 3]]\n",
      "['fire', [3, 3]]\n",
      "['tingle', [31]]\n",
      "['reasons', [9]]\n"
     ]
    }
   ],
   "source": [
    "for key, value in D.items():\n",
    "    init = [value for value in D.values() if D[key] == value]\n",
    "    print([key,init])"
   ]
  },
  {
   "cell_type": "code",
   "execution_count": 29,
   "metadata": {},
   "outputs": [],
   "source": [
    "# Try the test your knowledge part!"
   ]
  },
  {
   "cell_type": "code",
   "execution_count": 30,
   "metadata": {},
   "outputs": [
    {
     "name": "stdout",
     "output_type": "stream",
     "text": [
      "7\n"
     ]
    }
   ],
   "source": [
    "def match_ends(words):\n",
    "    count = 0\n",
    "    for word in words:\n",
    "        if len(words) >= 2 and word[0] == word[-1]:\n",
    "            count = count + 1 # equivalently, count += 1\n",
    "    return count\n",
    "\n",
    "print(match_ends(\"arteria\"))"
   ]
  },
  {
   "cell_type": "code",
   "execution_count": 31,
   "metadata": {},
   "outputs": [],
   "source": [
    "# A more advanced example. Can you understand NESTED FOR LOOPS?"
   ]
  },
  {
   "cell_type": "code",
   "execution_count": 32,
   "metadata": {},
   "outputs": [],
   "source": [
    "noprimes = [j for i in range(2,100) for j in range(i*2,100,i)]  # Nested loops describing the non-prime numbers between 2 and 100 (1 is NOT a prime number!)"
   ]
  },
  {
   "cell_type": "code",
   "execution_count": 33,
   "metadata": {},
   "outputs": [],
   "source": [
    "primes = [x for x in range(2,100) if x not in noprimes]"
   ]
  },
  {
   "cell_type": "code",
   "execution_count": 34,
   "metadata": {},
   "outputs": [
    {
     "data": {
      "text/plain": [
       "[2,\n",
       " 3,\n",
       " 5,\n",
       " 7,\n",
       " 11,\n",
       " 13,\n",
       " 17,\n",
       " 19,\n",
       " 23,\n",
       " 29,\n",
       " 31,\n",
       " 37,\n",
       " 41,\n",
       " 43,\n",
       " 47,\n",
       " 53,\n",
       " 59,\n",
       " 61,\n",
       " 67,\n",
       " 71,\n",
       " 73,\n",
       " 79,\n",
       " 83,\n",
       " 89,\n",
       " 97]"
      ]
     },
     "execution_count": 34,
     "metadata": {},
     "output_type": "execute_result"
    }
   ],
   "source": [
    "primes"
   ]
  },
  {
   "cell_type": "code",
   "execution_count": 35,
   "metadata": {},
   "outputs": [],
   "source": [
    "# This is an intractable calculation once n grows sufficiently large. In general, this is not a polynomial runtime algorithm. We have to design some more efficient algorithms in the future (but this is NOT on our agenda)."
   ]
  },
  {
   "cell_type": "code",
   "execution_count": 36,
   "metadata": {},
   "outputs": [],
   "source": [
    "# A common application of dictinoary is to sort names -- and print a list of names at the end of the process."
   ]
  },
  {
   "cell_type": "code",
   "execution_count": 37,
   "metadata": {},
   "outputs": [
    {
     "name": "stdout",
     "output_type": "stream",
     "text": [
      "Hsieh , Rex\n",
      "Schons , Andrew\n"
     ]
    }
   ],
   "source": [
    "last = [\"Schons\",\"Hsieh\"]\n",
    "first = [\"Andrew\",\"Rex\"]\n",
    "d = dict(zip(last,first))\n",
    "\n",
    "for key in sorted(d):\n",
    "    print(key, \",\", d[key])"
   ]
  }
 ],
 "metadata": {
  "kernelspec": {
   "display_name": "Python 3",
   "language": "python",
   "name": "python3"
  },
  "language_info": {
   "codemirror_mode": {
    "name": "ipython",
    "version": 3
   },
   "file_extension": ".py",
   "mimetype": "text/x-python",
   "name": "python",
   "nbconvert_exporter": "python",
   "pygments_lexer": "ipython3",
   "version": "3.6.5"
  }
 },
 "nbformat": 4,
 "nbformat_minor": 2
}
