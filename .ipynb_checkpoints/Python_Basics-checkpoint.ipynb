{
 "cells": [
  {
   "cell_type": "code",
   "execution_count": 1,
   "metadata": {},
   "outputs": [],
   "source": [
    "# One of the reasons we want to use Python is to utilise its versatility when it comes to object types."
   ]
  },
  {
   "cell_type": "code",
   "execution_count": 2,
   "metadata": {},
   "outputs": [],
   "source": [
    "# In what follows, we will go through the basics of some data structures."
   ]
  },
  {
   "cell_type": "markdown",
   "metadata": {},
   "source": [
    "# Strings, Characters, Calculations"
   ]
  },
  {
   "cell_type": "code",
   "execution_count": 3,
   "metadata": {},
   "outputs": [],
   "source": [
    "# Strings are words; characters are the elements in words; calculations on words are possible in Python! For example,"
   ]
  },
  {
   "cell_type": "code",
   "execution_count": 4,
   "metadata": {},
   "outputs": [
    {
     "name": "stdout",
     "output_type": "stream",
     "text": [
      "hello me\n"
     ]
    }
   ],
   "source": [
    "hello_me = \"hello me\"\n",
    "print(hello_me)"
   ]
  },
  {
   "cell_type": "code",
   "execution_count": 5,
   "metadata": {},
   "outputs": [],
   "source": [
    "# One can also put two words together:"
   ]
  },
  {
   "cell_type": "code",
   "execution_count": 6,
   "metadata": {},
   "outputs": [
    {
     "name": "stdout",
     "output_type": "stream",
     "text": [
      "hello me from yesterday\n"
     ]
    }
   ],
   "source": [
    "ystday = \"from yesterday\"\n",
    "print(hello_me + \" \" + ystday)"
   ]
  },
  {
   "cell_type": "markdown",
   "metadata": {},
   "source": [
    "Note: the syntax is -- variable + \"  (space) \" + variable. This is possible because as a **dynamically typed**, ie. Python doesn't treat this operation as one between two different objects."
   ]
  },
  {
   "cell_type": "markdown",
   "metadata": {},
   "source": [
    "It is possible to use Python strictly as a calculator (though the motivation for that is unclear to me); in particular, it can be a very sophisticated calculator that is fairly quick."
   ]
  },
  {
   "cell_type": "code",
   "execution_count": 7,
   "metadata": {},
   "outputs": [
    {
     "data": {
      "text/plain": [
       "2"
      ]
     },
     "execution_count": 7,
     "metadata": {},
     "output_type": "execute_result"
    }
   ],
   "source": [
    "1+1"
   ]
  },
  {
   "cell_type": "code",
   "execution_count": 8,
   "metadata": {},
   "outputs": [
    {
     "data": {
      "text/plain": [
       "29022"
      ]
     },
     "execution_count": 8,
     "metadata": {},
     "output_type": "execute_result"
    }
   ],
   "source": [
    "29021+1"
   ]
  },
  {
   "cell_type": "code",
   "execution_count": 9,
   "metadata": {},
   "outputs": [],
   "source": [
    "# One can also add two lists of numbers element-wise, though it is NOT clear at all (at first) what should be done."
   ]
  },
  {
   "cell_type": "code",
   "execution_count": 10,
   "metadata": {},
   "outputs": [
    {
     "name": "stdout",
     "output_type": "stream",
     "text": [
      "[1, 2, 3, 4]\n",
      "10\n"
     ]
    }
   ],
   "source": [
    "print([1,2] + [3,4]) # This is concatenating two lists\n",
    "print(sum([1,2]+[3,4])) # This adds all four numbers"
   ]
  },
  {
   "cell_type": "code",
   "execution_count": 11,
   "metadata": {},
   "outputs": [],
   "source": [
    "# To do this, we need to develop some ideas for what other data types there are."
   ]
  },
  {
   "cell_type": "markdown",
   "metadata": {},
   "source": [
    "Numbers, strings, lists, dictionaries, tuples, files, and sets are generally considered to be the core object (data) types. Types, None, and Booleans are sometimes classified this way as well. There are multiple number types (integer, floating point, complex, fraction, and decimal) and multiple string types (simple strings and Unicode strings in Python 2.X, and text strings and byte strings in Python 3.X)."
   ]
  },
  {
   "cell_type": "markdown",
   "metadata": {},
   "source": [
    "* Lists are kind of like vectors (the ones created using c()) in R --- which doesn't need anymore introduction at this point.\n",
    "* Sets are like sequences in R --- which, again, doesn't need anymore introduction at this point.\n",
    "* Dictionaries and tuples are **incredibly powerful** tools in Python, which we will use below. Tuples are dictionaries that cannot be changed in anyway."
   ]
  },
  {
   "cell_type": "code",
   "execution_count": 12,
   "metadata": {},
   "outputs": [],
   "source": [
    "dict = {\"a\":1, \"b\":2} # a dictionary is a collection of (key,value) --- most of which is self-explanatory here"
   ]
  },
  {
   "cell_type": "code",
   "execution_count": 13,
   "metadata": {},
   "outputs": [
    {
     "data": {
      "text/plain": [
       "[1, 2]"
      ]
     },
     "execution_count": 13,
     "metadata": {},
     "output_type": "execute_result"
    }
   ],
   "source": [
    "[dict[\"a\"], dict[\"b\"]] # returns the VALUES"
   ]
  },
  {
   "cell_type": "markdown",
   "metadata": {},
   "source": [
    "To return keys from values is actually much harder, because that is usually NOT what a dictionary is. So, we make use of a property called items, which are essentially the ordered pairs (key,value)."
   ]
  },
  {
   "cell_type": "code",
   "execution_count": 14,
   "metadata": {
    "scrolled": true
   },
   "outputs": [
    {
     "name": "stdout",
     "output_type": "stream",
     "text": [
      "The key a corresponds to the value 1\n",
      "The key b corresponds to the value 2\n"
     ]
    }
   ],
   "source": [
    "for (k,v) in dict.items():\n",
    "    print(\"The key\", k, \"corresponds to the value\", v)"
   ]
  },
  {
   "cell_type": "markdown",
   "metadata": {},
   "source": [
    "Because dictionaries are mutable, we can do ALL sorts of fun things, including deleting and adding elements."
   ]
  },
  {
   "cell_type": "code",
   "execution_count": 15,
   "metadata": {},
   "outputs": [
    {
     "data": {
      "text/plain": [
       "{'b': 2, 'e': 9, 'f': 7, 'g': 10}"
      ]
     },
     "execution_count": 15,
     "metadata": {},
     "output_type": "execute_result"
    }
   ],
   "source": [
    "del dict[\"a\"]\n",
    "dict[\"e\"] = 9\n",
    "dict[\"f\"] = 7\n",
    "dict[\"g\"] =10\n",
    "dict"
   ]
  },
  {
   "cell_type": "code",
   "execution_count": 16,
   "metadata": {},
   "outputs": [],
   "source": [
    "dict[\"a\",\"c\",\"e\"] = [3,4,6] # nested lists as keys and values!"
   ]
  },
  {
   "cell_type": "code",
   "execution_count": 17,
   "metadata": {},
   "outputs": [
    {
     "data": {
      "text/plain": [
       "{'b': 2, 'e': 9, 'f': 7, 'g': 10, ('a', 'c', 'e'): [3, 4, 6]}"
      ]
     },
     "execution_count": 17,
     "metadata": {},
     "output_type": "execute_result"
    }
   ],
   "source": [
    "dict"
   ]
  },
  {
   "cell_type": "code",
   "execution_count": 18,
   "metadata": {},
   "outputs": [
    {
     "name": "stdout",
     "output_type": "stream",
     "text": [
      "The key b corresponds to the value(s) 2\n",
      "The key e corresponds to the value(s) 9\n",
      "The key f corresponds to the value(s) 7\n",
      "The key g corresponds to the value(s) 10\n",
      "The key ('a', 'c', 'e') corresponds to the value(s) [3, 4, 6]\n"
     ]
    }
   ],
   "source": [
    "for (k,v) in dict.items():\n",
    "    print(\"The key\", k, \"corresponds to the value(s)\", v)"
   ]
  },
  {
   "cell_type": "markdown",
   "metadata": {},
   "source": [
    "As you can imagine, this is VERY powerful, because this lets us solve one of the problems we found earlier: that we cannot add vectors component-wise as easily as we did in R."
   ]
  },
  {
   "cell_type": "code",
   "execution_count": 19,
   "metadata": {},
   "outputs": [],
   "source": [
    "list1 = (1,2)\n",
    "list2 = (3,4)"
   ]
  },
  {
   "cell_type": "code",
   "execution_count": 20,
   "metadata": {},
   "outputs": [
    {
     "data": {
      "text/plain": [
       "[4, 6]"
      ]
     },
     "execution_count": 20,
     "metadata": {},
     "output_type": "execute_result"
    }
   ],
   "source": [
    "[sum(x) for x in zip(list1,list2)] #zip() creates a dictionary!"
   ]
  },
  {
   "cell_type": "code",
   "execution_count": 21,
   "metadata": {},
   "outputs": [
    {
     "data": {
      "text/plain": [
       "[4, 6]"
      ]
     },
     "execution_count": 21,
     "metadata": {},
     "output_type": "execute_result"
    }
   ],
   "source": [
    "# A less clever, but equally useful, option:\n",
    "from operator import add\n",
    "list(map(add, list1, list2))"
   ]
  },
  {
   "cell_type": "markdown",
   "metadata": {},
   "source": [
    "A slightly more sophisticated use of dictionary is to perhaps sort a BUNCH of people by last names, say, on a wedding invitation list."
   ]
  },
  {
   "cell_type": "code",
   "execution_count": 43,
   "metadata": {},
   "outputs": [],
   "source": [
    "lst_names = [\"f\",\"g\",\"r\",\"h\",\"a\",\"b\",\"i\"]\n",
    "fst_names = [\"w\",\"x\",\"c\",\"j\",\"q\",\"l\",\"z\"]\n",
    "dd = zip(fst_names,lst_names)"
   ]
  },
  {
   "cell_type": "code",
   "execution_count": 44,
   "metadata": {},
   "outputs": [
    {
     "data": {
      "text/plain": [
       "[('c', 'r'),\n",
       " ('j', 'h'),\n",
       " ('l', 'b'),\n",
       " ('q', 'a'),\n",
       " ('w', 'f'),\n",
       " ('x', 'g'),\n",
       " ('z', 'i')]"
      ]
     },
     "execution_count": 44,
     "metadata": {},
     "output_type": "execute_result"
    }
   ],
   "source": [
    "sorted(dd) # This sorts by KEYS"
   ]
  },
  {
   "cell_type": "code",
   "execution_count": 46,
   "metadata": {},
   "outputs": [
    {
     "data": {
      "text/plain": [
       "[('q', 'a'),\n",
       " ('l', 'b'),\n",
       " ('w', 'f'),\n",
       " ('x', 'g'),\n",
       " ('j', 'h'),\n",
       " ('z', 'i'),\n",
       " ('c', 'r')]"
      ]
     },
     "execution_count": 46,
     "metadata": {},
     "output_type": "execute_result"
    }
   ],
   "source": [
    "sorted(zip(fst_names,lst_names), key=lambda x: x[1]) # This sorts by VALUES (weird syntax aside, this is how one does it)"
   ]
  },
  {
   "cell_type": "markdown",
   "metadata": {},
   "source": [
    "Another application: counting. This gets endlessly complicated somethings, but with Python dictionaries, it is MUCH easier."
   ]
  },
  {
   "cell_type": "code",
   "execution_count": 51,
   "metadata": {},
   "outputs": [
    {
     "data": {
      "text/plain": [
       "{'K': 1, 'e': 1, 'n': 1, 't': 1, 'u': 1, 'c': 1, 'k': 1, 'y': 1}"
      ]
     },
     "execution_count": 51,
     "metadata": {},
     "output_type": "execute_result"
    }
   ],
   "source": [
    "letter_counts = {}\n",
    "word = \"Kentucky\"\n",
    "for letter in word:\n",
    "    letter_counts[letter] = letter_counts.get(letter,0) + 1\n",
    "\n",
    "letter_counts"
   ]
  },
  {
   "cell_type": "markdown",
   "metadata": {},
   "source": [
    "We start with an empty dictionary. For each letter in the string, we find the current count (possibly zero) and increment it. At the end, the dictionary contains pairs of letters and their frequencies."
   ]
  },
  {
   "cell_type": "markdown",
   "metadata": {},
   "source": [
    "We can also ignore cases when it comes to counting."
   ]
  },
  {
   "cell_type": "code",
   "execution_count": 64,
   "metadata": {
    "scrolled": true
   },
   "outputs": [
    {
     "name": "stdout",
     "output_type": "stream",
     "text": [
      "{' ': 8, 'a': 2, 'c': 1, 'd': 1, 'e': 5, 'g': 1, 'h': 2, 'i': 4, 'l': 2, 'n': 2, 'o': 1, 'p': 2, 'r': 4, 's': 5, 't': 5, 'u': 1, 'w': 2}\n"
     ]
    }
   ],
   "source": [
    "letter_counts = {}\n",
    "word = \"ThiS is String with Upper and lower case Letters\"\n",
    "for letter in word.lower():\n",
    "    letter_counts[letter] = letter_counts.get(letter,0) + 1\n",
    "\n",
    "alph_letter_counts = {}\n",
    "for (k,v) in letter_counts.items():\n",
    "    sorted_k = sorted(letter_counts.keys())\n",
    "    for x in sorted_k:\n",
    "        alph_letter_counts[x] = letter_counts[x]\n",
    "\n",
    "print(alph_letter_counts)"
   ]
  },
  {
   "cell_type": "code",
   "execution_count": null,
   "metadata": {},
   "outputs": [],
   "source": [
    "# This is a little complicated, but this is basically how things work here."
   ]
  }
 ],
 "metadata": {
  "kernelspec": {
   "display_name": "Python 3",
   "language": "python",
   "name": "python3"
  },
  "language_info": {
   "codemirror_mode": {
    "name": "ipython",
    "version": 3
   },
   "file_extension": ".py",
   "mimetype": "text/x-python",
   "name": "python",
   "nbconvert_exporter": "python",
   "pygments_lexer": "ipython3",
   "version": "3.6.5"
  }
 },
 "nbformat": 4,
 "nbformat_minor": 2
}
