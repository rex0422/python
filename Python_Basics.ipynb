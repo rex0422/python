{
 "cells": [
  {
   "cell_type": "code",
   "execution_count": 1,
   "metadata": {},
   "outputs": [],
   "source": [
    "# This is a compilation of all the codes that I've written in Week 2's materials.\n",
    "# More examples are provided here, which you can see how it is run.\n",
    "# More advanced content will be provided towards the end."
   ]
  },
  {
   "cell_type": "code",
   "execution_count": 2,
   "metadata": {},
   "outputs": [
    {
     "name": "stdout",
     "output_type": "stream",
     "text": [
      "I am Pinocchio\n"
     ]
    }
   ],
   "source": [
    "print(\"I am Pinocchio\")"
   ]
  },
  {
   "cell_type": "code",
   "execution_count": 3,
   "metadata": {},
   "outputs": [
    {
     "data": {
      "text/plain": [
       "3"
      ]
     },
     "execution_count": 3,
     "metadata": {},
     "output_type": "execute_result"
    }
   ],
   "source": [
    "len([1,2,3])  # question: how many elements are there in [1,2,3]?"
   ]
  },
  {
   "cell_type": "code",
   "execution_count": 4,
   "metadata": {},
   "outputs": [
    {
     "data": {
      "text/plain": [
       "[1, 2, 3, 4, 5, 6]"
      ]
     },
     "execution_count": 4,
     "metadata": {},
     "output_type": "execute_result"
    }
   ],
   "source": [
    "[1,2,3] + [4,5,6]  # this creates a new list, counting from 1 to 6"
   ]
  },
  {
   "cell_type": "code",
   "execution_count": 5,
   "metadata": {},
   "outputs": [
    {
     "data": {
      "text/plain": [
       "['Yo',\n",
       " 'Yo',\n",
       " 'Yo',\n",
       " 'Yo',\n",
       " 'Yo',\n",
       " 'Yo',\n",
       " 'Yo',\n",
       " 'Yo',\n",
       " 'Yo',\n",
       " 'Yo',\n",
       " 'Yo',\n",
       " 'Yo',\n",
       " 'Yo',\n",
       " 'Yo']"
      ]
     },
     "execution_count": 5,
     "metadata": {},
     "output_type": "execute_result"
    }
   ],
   "source": [
    "[\"Yo\"] * 14  # an obnoxious person would do this: say “yo” fourteen times in a row"
   ]
  },
  {
   "cell_type": "code",
   "execution_count": 6,
   "metadata": {},
   "outputs": [
    {
     "name": "stdout",
     "output_type": "stream",
     "text": [
      "red\n",
      "green\n",
      "3\n"
     ]
    }
   ],
   "source": [
    "colors = ['red', 'blue', 'green']\n",
    "print(colors[0])    ## red\n",
    "print(colors[2])   ## green\n",
    "print(len(colors))  ## 3"
   ]
  },
  {
   "cell_type": "code",
   "execution_count": 7,
   "metadata": {},
   "outputs": [
    {
     "name": "stdout",
     "output_type": "stream",
     "text": [
      "30\n"
     ]
    }
   ],
   "source": [
    "squares = [1, 4, 9, 16]\n",
    "sum = 0\n",
    "for num in squares:\n",
    "    sum += num\n",
    "print(sum)  ## this gives you 30!"
   ]
  },
  {
   "cell_type": "code",
   "execution_count": 9,
   "metadata": {},
   "outputs": [],
   "source": [
    "# What does [7] mean? For every number in the \"squares\" list, start the sum with zero,\n",
    "# we add the number in \"squares\" to 0.\n",
    "# This gives us a way to add squares of finitely small integers."
   ]
  },
  {
   "cell_type": "code",
   "execution_count": 10,
   "metadata": {},
   "outputs": [],
   "source": [
    "# Something not covered earlier is called LIST COMPREHENSIONS. This is Python's super-fast computation process,\n",
    "# generating integers inside a list of integers, powered by a generator."
   ]
  },
  {
   "cell_type": "code",
   "execution_count": 11,
   "metadata": {},
   "outputs": [
    {
     "name": "stdout",
     "output_type": "stream",
     "text": [
      "1015\n"
     ]
    }
   ],
   "source": [
    "squares = [x**2 for x in range(15)]\n",
    "sum = 0\n",
    "for num in squares:\n",
    "    sum += num\n",
    "print(sum)  ## this gives you 1015!"
   ]
  },
  {
   "cell_type": "code",
   "execution_count": 12,
   "metadata": {},
   "outputs": [],
   "source": [
    "# Feel free to manually check the work above by simple maths formula you've learned! Remeber sum of k^2 (from 1 to n)\n",
    "# is given by 1/6 (n(n+1)(2n+1)). We can program a function that does exactly this!"
   ]
  },
  {
   "cell_type": "code",
   "execution_count": 31,
   "metadata": {},
   "outputs": [],
   "source": [
    "def sum_of_sq(x,y):\n",
    "    length = abs(x-y)\n",
    "    n = len(range(length))\n",
    "    a = (1/6) * (n*(n+1)*(1 + 2*n))\n",
    "    print(int(a))"
   ]
  },
  {
   "cell_type": "code",
   "execution_count": 20,
   "metadata": {},
   "outputs": [
    {
     "name": "stdout",
     "output_type": "stream",
     "text": [
      "1015\n"
     ]
    }
   ],
   "source": [
    "sum_of_sq(1,15)"
   ]
  },
  {
   "cell_type": "code",
   "execution_count": 21,
   "metadata": {},
   "outputs": [],
   "source": [
    "# This is a much slower way to add integers between x and y, especially if y is large. For example:"
   ]
  },
  {
   "cell_type": "code",
   "execution_count": 29,
   "metadata": {
    "scrolled": true
   },
   "outputs": [
    {
     "name": "stdout",
     "output_type": "stream",
     "text": [
      "30273825\n"
     ]
    }
   ],
   "source": [
    "squares = [x**2 for x in range(450)]\n",
    "sum = 0\n",
    "for num in squares:\n",
    "    sum += num\n",
    "print(sum)  ## this gives you 1015!"
   ]
  },
  {
   "cell_type": "code",
   "execution_count": 32,
   "metadata": {},
   "outputs": [
    {
     "name": "stdout",
     "output_type": "stream",
     "text": [
      "30273825\n"
     ]
    }
   ],
   "source": [
    "sum_of_sq(1,450)"
   ]
  },
  {
   "cell_type": "code",
   "execution_count": null,
   "metadata": {},
   "outputs": [],
   "source": []
  }
 ],
 "metadata": {
  "kernelspec": {
   "display_name": "Python 3",
   "language": "python",
   "name": "python3"
  },
  "language_info": {
   "codemirror_mode": {
    "name": "ipython",
    "version": 3
   },
   "file_extension": ".py",
   "mimetype": "text/x-python",
   "name": "python",
   "nbconvert_exporter": "python",
   "pygments_lexer": "ipython3",
   "version": "3.6.5"
  }
 },
 "nbformat": 4,
 "nbformat_minor": 2
}
