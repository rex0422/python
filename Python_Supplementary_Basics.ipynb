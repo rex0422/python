{
 "cells": [
  {
   "cell_type": "code",
   "execution_count": 2,
   "metadata": {},
   "outputs": [],
   "source": [
    "#1) RECURSIONS. Recursion is a somewhat advanced topic, and it’s relatively rare to see in Python, partly because Python’s procedural statements include simpler looping structures. Still, it’s a useful technique to know about, as it allows programs to traverse structures that have arbitrary and unpredictable shapes and depths—planning travel routes, analyzing language, and crawling links on the Web, for example. Recursion is even an alternative to simple loops and iterations, though not necessarily the simplest or most efficient one."
   ]
  },
  {
   "cell_type": "code",
   "execution_count": 3,
   "metadata": {},
   "outputs": [
    {
     "name": "stdout",
     "output_type": "stream",
     "text": [
      "[2, 3, 1, 2, 3]\n",
      "[3, 1, 2, 3]\n",
      "[1, 2, 3]\n",
      "[2, 3]\n",
      "[3]\n",
      "[]\n",
      "11\n"
     ]
    }
   ],
   "source": [
    "def mysum(L):\n",
    "  print(L) # Trace recursive levels\n",
    "  if not L: # L shorter at each level\n",
    "    return 0\n",
    "  else:\n",
    "    return L[0] + mysum(L[1:])\n",
    "\n",
    "print(mysum([2,3,1,2,3]))"
   ]
  },
  {
   "cell_type": "code",
   "execution_count": 4,
   "metadata": {},
   "outputs": [
    {
     "name": "stdout",
     "output_type": "stream",
     "text": [
      "11\n"
     ]
    }
   ],
   "source": [
    "def summation(L):\n",
    "  if not L:\n",
    "    return 0\n",
    "  else:\n",
    "    return L[0] + summation(L[1:])\n",
    "\n",
    "print(summation([2,3,1,2,3]))"
   ]
  },
  {
   "cell_type": "code",
   "execution_count": 5,
   "metadata": {},
   "outputs": [
    {
     "name": "stdout",
     "output_type": "stream",
     "text": [
      "11\n"
     ]
    }
   ],
   "source": [
    "def mysum(L):\n",
    "  return 0 if not L else L[0] + mysum(L[1:])  #ternary expansion\n",
    "\n",
    "print(mysum([2,3,1,2,3]))"
   ]
  },
  {
   "cell_type": "code",
   "execution_count": 6,
   "metadata": {},
   "outputs": [],
   "source": [
    "# Queues vs stacks: the question at hand is to search either breadth- or depth-first. The confounding concern is to know whether it’s generally possible to implement recursive-style procedures without recursive calls, by using an explicit stack or queue of your own to keep track of remaining steps. To motivate this, we see an example."
   ]
  },
  {
   "cell_type": "code",
   "execution_count": 7,
   "metadata": {},
   "outputs": [],
   "source": [
    "def breadthsumtree(L): # Breadth-first, explicit queue\n",
    "  tot = 0\n",
    "  items = list(L) # Start with copy of top level\n",
    "  while items:\n",
    "    front = items.pop(0) # Fetch/delete front item\n",
    "    if not isinstance(front, list):\n",
    "     tot += front # Add numbers directly\n",
    "    else:\n",
    "     items.extend(front) # <== Append all in nested list\n",
    "  return tot"
   ]
  },
  {
   "cell_type": "code",
   "execution_count": 8,
   "metadata": {},
   "outputs": [],
   "source": [
    "# Difference between .append() and .extend(): the former adds whatever to the list; the latter adds the elements in the list to the larger list."
   ]
  },
  {
   "cell_type": "code",
   "execution_count": 9,
   "metadata": {},
   "outputs": [],
   "source": [
    "# Let's break this down: start with a total of 0, we make L into a list -- which is iterable. Then, while we iterate through the elements in items, we single out the first element. If the element is not a list, then we add the number to the total. If it is a list, then we add all its elements to the larger list."
   ]
  },
  {
   "cell_type": "code",
   "execution_count": 10,
   "metadata": {},
   "outputs": [],
   "source": [
    "def widthsumtree(L):\n",
    "  tot = 0\n",
    "  items = list(L) # Start with copy of top level\n",
    "  while items:\n",
    "    front = items.pop(0) # Fetch/delete front item\n",
    "    if not isinstance(front, list):\n",
    "      tot += front # Add numbers directly\n",
    "    else:\n",
    "      items[:0] = front # <== Prepend all in nested list\n",
    "  return tot"
   ]
  },
  {
   "cell_type": "code",
   "execution_count": null,
   "metadata": {},
   "outputs": [],
   "source": []
  }
 ],
 "metadata": {
  "kernelspec": {
   "display_name": "Python 3",
   "language": "python",
   "name": "python3"
  },
  "language_info": {
   "codemirror_mode": {
    "name": "ipython",
    "version": 3
   },
   "file_extension": ".py",
   "mimetype": "text/x-python",
   "name": "python",
   "nbconvert_exporter": "python",
   "pygments_lexer": "ipython3",
   "version": "3.6.5"
  }
 },
 "nbformat": 4,
 "nbformat_minor": 2
}
